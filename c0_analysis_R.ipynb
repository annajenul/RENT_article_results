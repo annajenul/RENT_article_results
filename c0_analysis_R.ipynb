{
 "cells": [
  {
   "cell_type": "code",
   "execution_count": 2,
   "id": "4ca4f85f",
   "metadata": {},
   "outputs": [],
   "source": [
    "# load data\n",
    "train_data = read.csv(\"data/c0/class_train.csv\")[,-1]\n",
    "train_labels = read.csv(\"data/c0/class_train_labels.csv\")[,-1]\n",
    "test_data = read.csv(\"data/c0/class_test.csv\")[,-1]\n",
    "test_labels = read.csv(\"data/c0/class_test_labels.csv\")[,-1]"
   ]
  },
  {
   "cell_type": "code",
   "execution_count": 4,
   "id": "5a27bc97",
   "metadata": {},
   "outputs": [],
   "source": [
    "source(\"R_python_script.R\")"
   ]
  },
  {
   "cell_type": "code",
   "execution_count": 6,
   "id": "982481aa",
   "metadata": {},
   "outputs": [
    {
     "name": "stdout",
     "output_type": "stream",
     "text": [
      "[1] \"Performance mRMR\"\n",
      "$f1_1\n",
      "[1] 0.7532468\n",
      "\n",
      "$f1_0\n",
      "[1] 0.739726\n",
      "\n",
      "$acc\n",
      "[1] 0.7466667\n",
      "\n",
      "$mcc\n",
      "[1] 0.4953682\n",
      "\n",
      "[1] \"Performance L-score\"\n",
      "$f1_1\n",
      "[1] 0.7160494\n",
      "\n",
      "$f1_0\n",
      "[1] 0.6666667\n",
      "\n",
      "$acc\n",
      "[1] 0.6933333\n",
      "\n",
      "$mcc\n",
      "[1] 0.3829644\n",
      "\n",
      "[1] \"Performance F-score\"\n",
      "$f1_1\n",
      "[1] 0.7466667\n",
      "\n",
      "$f1_0\n",
      "[1] 0.7466667\n",
      "\n",
      "$acc\n",
      "[1] 0.7466667\n",
      "\n",
      "$mcc\n",
      "[1] 0.5\n",
      "\n"
     ]
    }
   ],
   "source": [
    "fs = 12 # number of features selected with RENT\n",
    "\n",
    "train_data_sc = apply(train_data, 2, function(x){if(length(unique(x))>1){return(scale(x))} else{return(x)}})\n",
    "#train_data_sc = scale(train_data)\n",
    "\n",
    "################ mRMR ################\n",
    "library(mRMRe)\n",
    "dataset = cbind(\"class\"=train_labels, data.frame(apply(train_data_sc,2, as.numeric)))\n",
    "colnames(dataset)[1] = \"class\"\n",
    "dataset$class = factor(dataset$class, ordered=TRUE)\n",
    "dataset = mRMR.data(dataset)\n",
    "result = mRMR.classic(data=dataset, target_indices = c(1), feature_count = fs)\n",
    "\n",
    "selected_features = result@filters$`1`\n",
    "selected_features = colnames(dataset@data[,selected_features])\n",
    "print(\"Performance mRMR\")\n",
    "print(classification_scores(train_data[,selected_features], train_labels, test_data[,selected_features], test_labels))\n",
    "\n",
    "############### Laplace Score #######################\n",
    "library(Rdimtools)\n",
    "lapl = do.lscore(as.matrix(train_data_sc), t=10, ndim = fs) # train_data must be matrix\n",
    "selected_features = lapl$featidx\n",
    "print(\"Performance L-score\")\n",
    "print(classification_scores(train_data[,selected_features], train_labels, test_data[,selected_features], test_labels))\n",
    "\n",
    "############### Fisher Score ########################\n",
    "fscore = do.fscore(as.matrix(train_data_sc), ndim = fs,label = train_labels)\n",
    "selected_features = fscore$featidx\n",
    "print(\"Performance F-score\")\n",
    "print(classification_scores(train_data[,selected_features], train_labels, test_data[,selected_features], test_labels))\n"
   ]
  },
  {
   "cell_type": "code",
   "execution_count": 7,
   "id": "d756c791",
   "metadata": {},
   "outputs": [
    {
     "name": "stderr",
     "output_type": "stream",
     "text": [
      "Loading required package: parallel\n",
      "\n",
      "Loading required package: Matrix\n",
      "\n",
      "Loaded glmnet 4.1-2\n",
      "\n",
      "Loading required package: lattice\n",
      "\n",
      "Loading required package: ggplot2\n",
      "\n",
      "\n",
      "Attaching package: 'caret'\n",
      "\n",
      "\n",
      "The following object is masked from 'package:survival':\n",
      "\n",
      "    cluster\n",
      "\n",
      "\n"
     ]
    }
   ],
   "source": [
    "source(\"stabsel_gridsearch.R\")"
   ]
  },
  {
   "cell_type": "code",
   "execution_count": null,
   "id": "f63b050b",
   "metadata": {},
   "outputs": [],
   "source": [
    "selected_features = stabsel_gridsearch(train_data, train_labels)"
   ]
  },
  {
   "cell_type": "code",
   "execution_count": null,
   "id": "80b02950",
   "metadata": {},
   "outputs": [],
   "source": [
    "classification_scores(train_data[,selected_features], train_labels, test_data[,selected_features], test_labels)"
   ]
  }
 ],
 "metadata": {
  "kernelspec": {
   "display_name": "R",
   "language": "R",
   "name": "ir"
  },
  "language_info": {
   "codemirror_mode": "r",
   "file_extension": ".r",
   "mimetype": "text/x-r-source",
   "name": "R",
   "pygments_lexer": "r",
   "version": "4.0.5"
  }
 },
 "nbformat": 4,
 "nbformat_minor": 5
}
