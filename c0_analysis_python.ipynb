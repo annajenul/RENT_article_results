{
 "cells": [
  {
   "cell_type": "code",
   "execution_count": 1,
   "id": "065c2ec5",
   "metadata": {},
   "outputs": [],
   "source": [
    "import RENT \n",
    "import BIC_hyperparameter_search\n",
    "import numpy as np\n",
    "import pandas as pd\n",
    "\n",
    "from sklearn.metrics import f1_score, matthews_corrcoef, accuracy_score, matthews_corrcoef\n",
    "from sklearn.preprocessing import StandardScaler\n",
    "from sklearn.linear_model import LogisticRegression\n",
    "\n",
    "import warnings\n",
    "warnings.filterwarnings(\"ignore\")"
   ]
  },
  {
   "cell_type": "code",
   "execution_count": 2,
   "id": "29c04a3d",
   "metadata": {},
   "outputs": [],
   "source": [
    "train_data = pd.read_csv('data\\\\c0\\\\class_train.csv').iloc[:,1:]\n",
    "train_labels = pd.read_csv('data\\\\c0\\\\class_train_labels.csv').iloc[:,1]\n",
    "test_data = pd.read_csv('data\\\\c0\\\\class_test.csv').iloc[:,1:]\n",
    "test_labels = pd.read_csv('data\\\\c0\\\\class_test_labels.csv').iloc[:,1]\n",
    "\n",
    "# the data was generated with the following code\n",
    "\n",
    "#from sklearn.datasets import make_classification\n",
    "#from sklearn.model_selection import train_test_split\n",
    "#    \n",
    "#data = make_classification(n_samples=250, n_features=1000, n_informative=20, n_redundant=100, random_state=0, shuffle=False)\n",
    "#\n",
    "#my_data = pd.DataFrame(data[0])\n",
    "#my_target = data[1]\n",
    "#my_feat_names = ['f{0}'.format(x+1) for x in range(len(my_data.columns))]\n",
    "#\n",
    "#train_data, test_data, train_labels, test_labels = train_test_split(my_data, my_target, test_size=0.3, random_state=0)"
   ]
  },
  {
   "cell_type": "code",
   "execution_count": 3,
   "id": "7e848934",
   "metadata": {},
   "outputs": [
    {
     "name": "stdout",
     "output_type": "stream",
     "text": [
      "data dimension: (175, 1000)  data type: <class 'pandas.core.frame.DataFrame'>\n",
      "target dimension: (175,)\n",
      "regularization parameters C: [0.1, 1, 10]\n",
      "elastic net l1_ratios: [0, 0.1, 0.25, 0.5, 0.75, 0.9, 1]\n",
      "poly: OFF\n",
      "number of models in ensemble: 100\n",
      "random state: 0\n",
      "verbose: 1\n"
     ]
    },
    {
     "name": "stderr",
     "output_type": "stream",
     "text": [
      "[Parallel(n_jobs=-1)]: Using backend ThreadingBackend with 4 concurrent workers.\n"
     ]
    },
    {
     "name": "stdout",
     "output_type": "stream",
     "text": [
      "classifier: logreg\n",
      "scoring: mcc\n"
     ]
    },
    {
     "name": "stderr",
     "output_type": "stream",
     "text": [
      "[Parallel(n_jobs=-1)]: Done   7 out of   7 | elapsed:    2.8s finished\n"
     ]
    }
   ],
   "source": [
    "# Define a range of regualarization parameters for the penalty term. A minimum of at least one value is required.\n",
    "my_C_params = [0.1, 1, 10]\n",
    "\n",
    "# Define a range of l1-ratios for elastic net.  A minimum of at least one value is required.\n",
    "my_l1_ratios = [0, 0.1, 0.25, 0.5, 0.75, 0.9, 1]\n",
    "\n",
    "# Define setting for RENT\n",
    "model = RENT.RENT_Classification(data=train_data, \n",
    "                                 target=train_labels, \n",
    "                                 feat_names=train_data.columns, \n",
    "                                 C=my_C_params,\n",
    "                                 l1_ratios=my_l1_ratios,\n",
    "                                 autoEnetParSel=True,\n",
    "                                 BIC=True,\n",
    "                                 poly='OFF',\n",
    "                                 testsize_range=(0.25,0.25),\n",
    "                                 scoring='mcc',\n",
    "                                 classifier='logreg',\n",
    "                                 K=100,\n",
    "                                 random_state=0,\n",
    "                                 verbose=1)"
   ]
  },
  {
   "cell_type": "code",
   "execution_count": 4,
   "id": "305191a2",
   "metadata": {},
   "outputs": [
    {
     "data": {
      "text/html": [
       "<div>\n",
       "<style scoped>\n",
       "    .dataframe tbody tr th:only-of-type {\n",
       "        vertical-align: middle;\n",
       "    }\n",
       "\n",
       "    .dataframe tbody tr th {\n",
       "        vertical-align: top;\n",
       "    }\n",
       "\n",
       "    .dataframe thead th {\n",
       "        text-align: right;\n",
       "    }\n",
       "</style>\n",
       "<table border=\"1\" class=\"dataframe\">\n",
       "  <thead>\n",
       "    <tr style=\"text-align: right;\">\n",
       "      <th></th>\n",
       "      <th>0.1</th>\n",
       "      <th>1.0</th>\n",
       "      <th>10.0</th>\n",
       "    </tr>\n",
       "  </thead>\n",
       "  <tbody>\n",
       "    <tr>\n",
       "      <th>0.00</th>\n",
       "      <td>5180.528134</td>\n",
       "      <td>5172.763243</td>\n",
       "      <td>5172.077357</td>\n",
       "    </tr>\n",
       "    <tr>\n",
       "      <th>0.10</th>\n",
       "      <td>2111.615137</td>\n",
       "      <td>4388.93376</td>\n",
       "      <td>5167.008545</td>\n",
       "    </tr>\n",
       "    <tr>\n",
       "      <th>0.25</th>\n",
       "      <td>1108.488513</td>\n",
       "      <td>3399.363997</td>\n",
       "      <td>5053.533439</td>\n",
       "    </tr>\n",
       "    <tr>\n",
       "      <th>0.50</th>\n",
       "      <td>554.683852</td>\n",
       "      <td>2519.693602</td>\n",
       "      <td>4816.218837</td>\n",
       "    </tr>\n",
       "    <tr>\n",
       "      <th>0.75</th>\n",
       "      <td>407.937528</td>\n",
       "      <td>2016.873843</td>\n",
       "      <td>4640.898728</td>\n",
       "    </tr>\n",
       "    <tr>\n",
       "      <th>0.90</th>\n",
       "      <td>373.822666</td>\n",
       "      <td>1750.154084</td>\n",
       "      <td>4465.472747</td>\n",
       "    </tr>\n",
       "    <tr>\n",
       "      <th>1.00</th>\n",
       "      <td>323.260014</td>\n",
       "      <td>1642.904857</td>\n",
       "      <td>4367.46197</td>\n",
       "    </tr>\n",
       "  </tbody>\n",
       "</table>\n",
       "</div>"
      ],
      "text/plain": [
       "             0.1          1.0          10.0\n",
       "0.00  5180.528134  5172.763243  5172.077357\n",
       "0.10  2111.615137   4388.93376  5167.008545\n",
       "0.25  1108.488513  3399.363997  5053.533439\n",
       "0.50   554.683852  2519.693602  4816.218837\n",
       "0.75   407.937528  2016.873843  4640.898728\n",
       "0.90   373.822666  1750.154084  4465.472747\n",
       "1.00   323.260014  1642.904857   4367.46197"
      ]
     },
     "execution_count": 4,
     "metadata": {},
     "output_type": "execute_result"
    }
   ],
   "source": [
    "model._BIC_df"
   ]
  },
  {
   "cell_type": "code",
   "execution_count": 5,
   "id": "eecf66ee",
   "metadata": {},
   "outputs": [],
   "source": [
    "model.train()"
   ]
  },
  {
   "cell_type": "code",
   "execution_count": 6,
   "id": "7bd8217f",
   "metadata": {},
   "outputs": [
    {
     "data": {
      "text/plain": [
       "(0.1, 1.0)"
      ]
     },
     "execution_count": 6,
     "metadata": {},
     "output_type": "execute_result"
    }
   ],
   "source": [
    "model.get_enet_params()"
   ]
  },
  {
   "cell_type": "code",
   "execution_count": 7,
   "id": "eb98105e",
   "metadata": {},
   "outputs": [],
   "source": [
    "cutoff_parameters = {'t1': np.arange(0.2,1.05,0.05),\n",
    "                     't2': np.arange(0.2,1.05,0.05),\n",
    "                     't3': [0.9, 0.95, 0.975, 0.99]}\n",
    "\n",
    "result = BIC_hyperparameter_search.BIC_hyperparameter_search(model, cutoff_parameters, test_data, test_labels)"
   ]
  },
  {
   "cell_type": "code",
   "execution_count": 8,
   "id": "ac2b073e",
   "metadata": {},
   "outputs": [],
   "source": [
    "BIC = result['BIC']\n",
    "#indices = np.where(BIC == np.min(BIC))\n",
    "indices_matrix = np.stack(np.where(BIC == np.min(BIC)), axis=0)\n",
    "tau1 = np.max(indices_matrix[0,:])\n",
    "indices_matrix = indices_matrix[:,np.where(indices_matrix[0,:] == tau1)[0]]\n",
    "tau2 = np.max(indices_matrix[1,:])\n",
    "indices_matrix = indices_matrix[:,np.where(indices_matrix[1,:] == tau2)[0]]\n",
    "tau3 = np.max(indices_matrix[2,:])\n",
    "\n",
    "tau1 = np.round(cutoff_parameters['t1'][tau1], 2)\n",
    "tau2 = np.round(cutoff_parameters['t2'][tau2], 2)\n",
    "tau3 = np.round(cutoff_parameters['t3'][tau3], 2)\n",
    "\n",
    "\n",
    "selected_features = model.select_features(tau_1_cutoff=tau1, tau_2_cutoff=tau2, tau_3_cutoff=tau3)"
   ]
  },
  {
   "cell_type": "code",
   "execution_count": 9,
   "id": "2e055d47",
   "metadata": {},
   "outputs": [
    {
     "data": {
      "text/plain": [
       "array([  2,  24,  42,  47,  53,  66,  70,  91, 147, 168, 226, 350],\n",
       "      dtype=int64)"
      ]
     },
     "execution_count": 9,
     "metadata": {},
     "output_type": "execute_result"
    }
   ],
   "source": [
    "selected_features"
   ]
  },
  {
   "cell_type": "code",
   "execution_count": 10,
   "id": "e30a4fd5",
   "metadata": {},
   "outputs": [],
   "source": [
    "sc = StandardScaler()\n",
    "train_data_sc = sc.fit_transform(train_data.iloc[:, selected_features])\n",
    "test_data_sc = sc.transform(test_data.iloc[:, selected_features])\n",
    "\n",
    "# Train model with \n",
    "model = LogisticRegression(penalty='none', max_iter=8000, solver=\"saga\", random_state=0).\\\n",
    "        fit(train_data_sc, train_labels)"
   ]
  },
  {
   "cell_type": "code",
   "execution_count": 11,
   "id": "4331c79c",
   "metadata": {},
   "outputs": [],
   "source": [
    "def predictions():\n",
    "    print(\"f1 1: \", f1_score(test_labels, model.predict(test_data_sc)))\n",
    "    print(\"f1 0: \", f1_score(1 - test_labels, 1 - model.predict(test_data_sc)))\n",
    "    print(\"Accuracy: \", accuracy_score(test_labels, model.predict(test_data_sc)))\n",
    "    print(\"Matthews correlation coefficient: \", matthews_corrcoef(test_labels, model.predict(test_data_sc)))"
   ]
  },
  {
   "cell_type": "code",
   "execution_count": 12,
   "id": "38b26736",
   "metadata": {},
   "outputs": [
    {
     "name": "stdout",
     "output_type": "stream",
     "text": [
      "f1 1:  0.7532467532467533\n",
      "f1 0:  0.7397260273972601\n",
      "Accuracy:  0.7466666666666667\n",
      "Matthews correlation coefficient:  0.49536820303070234\n"
     ]
    }
   ],
   "source": [
    "predictions()"
   ]
  },
  {
   "cell_type": "markdown",
   "id": "aa012128",
   "metadata": {},
   "source": [
    "# Competing methods"
   ]
  },
  {
   "cell_type": "code",
   "execution_count": 13,
   "id": "b4a8ba69",
   "metadata": {},
   "outputs": [],
   "source": [
    "from sklearn.svm import SVC\n",
    "from sklearn.feature_selection import RFE\n",
    "from sklearn.ensemble import RandomForestClassifier\n",
    "from ReliefF import ReliefF"
   ]
  },
  {
   "cell_type": "code",
   "execution_count": 14,
   "id": "ad4ac839",
   "metadata": {},
   "outputs": [
    {
     "name": "stdout",
     "output_type": "stream",
     "text": [
      "f1 1:  0.6301369863013698\n",
      "f1 0:  0.6493506493506493\n",
      "Accuracy:  0.64\n",
      "Matthews correlation coefficient:  0.29074308227141493\n"
     ]
    }
   ],
   "source": [
    "# M0\n",
    "\n",
    "sc=StandardScaler()\n",
    "scaled_data = sc.fit_transform(train_data)\n",
    "\n",
    "sgd = LogisticRegression(penalty=\"elasticnet\", C=0.1, l1_ratio=1, solver=\"saga\", random_state=0)\n",
    "sgd.fit(scaled_data, train_labels)\n",
    "params = np.where(sgd.coef_ != 0)[1]\n",
    "\n",
    "sc = StandardScaler()\n",
    "train_data_sc = sc.fit_transform(train_data.iloc[:,params])\n",
    "test_data_sc = sc.transform(test_data.iloc[:, params])\n",
    "model = LogisticRegression(penalty='none', max_iter=8000, solver=\"saga\", random_state=0).\\\n",
    "        fit(train_data_sc,train_labels)\n",
    "\n",
    "predictions()"
   ]
  },
  {
   "cell_type": "code",
   "execution_count": 15,
   "id": "217010d5",
   "metadata": {},
   "outputs": [],
   "source": [
    "num_features = len(selected_features)"
   ]
  },
  {
   "cell_type": "code",
   "execution_count": 16,
   "id": "d52ba990",
   "metadata": {},
   "outputs": [
    {
     "name": "stdout",
     "output_type": "stream",
     "text": [
      "f1 1:  0.7\n",
      "f1 0:  0.6571428571428571\n",
      "Accuracy:  0.68\n",
      "Matthews correlation coefficient:  0.35714285714285715\n"
     ]
    }
   ],
   "source": [
    "# RFE\n",
    "\n",
    "svc = SVC(kernel=\"linear\", C=1)\n",
    "rfe = RFE(estimator=svc, n_features_to_select=num_features, step=1)\n",
    "rfe.fit(scaled_data, train_labels)\n",
    "params = np.where(rfe.ranking_ == 1)[0]\n",
    "\n",
    "sc = StandardScaler()\n",
    "train_data_sc = sc.fit_transform(train_data.iloc[:,params])\n",
    "test_data_sc = sc.transform(test_data.iloc[:, params])\n",
    "model = LogisticRegression(penalty='none', max_iter=8000, solver=\"saga\").\\\n",
    "        fit(train_data_sc,train_labels)\n",
    "\n",
    "predictions()"
   ]
  },
  {
   "cell_type": "code",
   "execution_count": 17,
   "id": "89b1d971",
   "metadata": {},
   "outputs": [
    {
     "name": "stdout",
     "output_type": "stream",
     "text": [
      "f1 1:  0.5277777777777778\n",
      "f1 0:  0.5641025641025641\n",
      "Accuracy:  0.5466666666666666\n",
      "Matthews correlation coefficient:  0.10447076320889258\n"
     ]
    }
   ],
   "source": [
    "# reliefF\n",
    "rfF = ReliefF(n_neighbors=np.round(np.shape(train_data)[0]/3).astype(int), n_features_to_keep=num_features)\n",
    "rfF.fit(scaled_data, train_labels)\n",
    "params = rfF.top_features[0:num_features]\n",
    "\n",
    "\n",
    "sc = StandardScaler()\n",
    "train_data_sc = sc.fit_transform(train_data.iloc[:,params])\n",
    "test_data_sc = sc.transform(test_data.iloc[:, params])\n",
    "model = LogisticRegression(penalty='none', max_iter=8000, solver=\"saga\", random_state=0).\\\n",
    "        fit(train_data_sc,train_labels)\n",
    "\n",
    "predictions()"
   ]
  },
  {
   "cell_type": "code",
   "execution_count": 18,
   "id": "0775caf6",
   "metadata": {},
   "outputs": [
    {
     "name": "stdout",
     "output_type": "stream",
     "text": [
      "f1 1:  0.7466666666666666\n",
      "f1 0:  0.7466666666666666\n",
      "Accuracy:  0.7466666666666667\n",
      "Matthews correlation coefficient:  0.5\n"
     ]
    }
   ],
   "source": [
    "# random forest\n",
    "clf = RandomForestClassifier(random_state=0)\n",
    "model = clf.fit(scaled_data, train_labels)\n",
    "ind = np.where(np.argsort(np.argsort(-1*(model.feature_importances_)))<num_features)[0]\n",
    "\n",
    "sc = StandardScaler()\n",
    "train_data_sc = sc.fit_transform(train_data.iloc[:,ind])\n",
    "test_data_sc = sc.transform(test_data.iloc[:, ind])\n",
    "model = LogisticRegression(penalty='none', max_iter=8000, solver=\"saga\").\\\n",
    "        fit(train_data_sc,train_labels)\n",
    "\n",
    "predictions()"
   ]
  }
 ],
 "metadata": {
  "kernelspec": {
   "display_name": "Python 3",
   "language": "python",
   "name": "python3"
  },
  "language_info": {
   "codemirror_mode": {
    "name": "ipython",
    "version": 3
   },
   "file_extension": ".py",
   "mimetype": "text/x-python",
   "name": "python",
   "nbconvert_exporter": "python",
   "pygments_lexer": "ipython3",
   "version": "3.9.6"
  }
 },
 "nbformat": 4,
 "nbformat_minor": 5
}
